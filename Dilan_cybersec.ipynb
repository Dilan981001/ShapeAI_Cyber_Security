{
  "nbformat": 4,
  "nbformat_minor": 0,
  "metadata": {
    "colab": {
      "name": "Dilan_cybersec.ipynb",
      "provenance": []
    },
    "kernelspec": {
      "name": "python3",
      "display_name": "Python 3"
    },
    "language_info": {
      "name": "python"
    }
  },
  "cells": [
    {
      "cell_type": "code",
      "metadata": {
        "colab": {
          "base_uri": "https://localhost:8080/"
        },
        "id": "0qZZNtfV93bk",
        "outputId": "94d7f583-555e-44f6-d935-6e843926d95c"
      },
      "source": [
        "import requests\n",
        "\n",
        "from datetime import  datetime\n",
        "\n",
        "api_key = '48d04426a77f079635ad487e8ca36d3f'\n",
        "location = input(\"Enter the city name: \")\n",
        "\n",
        "complete_api_link = \"http://api.openweathermap.org/data/2.5/weather?q=\"+location+\"&appid=\"+api_key\n",
        "api_link = requests.get(complete_api_link)\n",
        "api_date = api_link.json()\n",
        "\n",
        "\n",
        "temp_city = ((api_date['main']['temp']) - 273.15)\n",
        "weather_desc = api_date['weather'][0]['description']\n",
        "hmdt = api_date['main']['humidity']\n",
        "wind_spd = api_date['wind']['speed']\n",
        "date_time = datetime.now().strftime(\"%d %b %Y | %I:%M:%S %p\")\n",
        "\n",
        "\n",
        "print (\"-------------------------------------------------------\")\n",
        "print (\"Weather States for - {} || {}\".format(location.upper(), date_time))\n",
        "print (\"-------------------------------------------------------\")\n",
        "\n",
        "\n",
        "print(\"Current temperature is: {:.2f} deg C\".format(temp_city))\n",
        "print (\"Current weather desc :\",weather_desc)\n",
        "print(\"Current humidity      :\",hmdt, '%')\n",
        "print(\"Current wind speed    :\",wind_spd , 'kmph')\n",
        "\n",
        "\n",
        "import requests\n",
        "\n",
        "r = requests.get('https://colab.research.google.com/drive/1u31tt3SsEQnX_VlTSb08SnK8IpB_KZDN')\n",
        "\n",
        "with open('cybersec.txt','wb') as f:\n",
        "  f.write(r.content)"
      ],
      "execution_count": 1,
      "outputs": [
        {
          "output_type": "stream",
          "text": [
            "Enter the city name: colombo\n",
            "-------------------------------------------------------\n",
            "Weather States for - COLOMBO || 21 Jun 2021 | 07:07:51 PM\n",
            "-------------------------------------------------------\n",
            "Current temperature is: 27.97 deg C\n",
            "Current weather desc : overcast clouds\n",
            "Current humidity      : 83 %\n",
            "Current wind speed    : 4.75 kmph\n"
          ],
          "name": "stdout"
        }
      ]
    }
  ]
}